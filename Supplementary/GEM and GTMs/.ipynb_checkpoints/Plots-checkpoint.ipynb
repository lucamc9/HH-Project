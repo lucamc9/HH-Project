{
 "cells": [
  {
   "cell_type": "code",
   "execution_count": 1,
   "metadata": {},
   "outputs": [],
   "source": [
    "import pandas as pd\n",
    "import numpy as np\n",
    "import sys\n",
    "import matplotlib.pyplot as plt\n",
    "%matplotlib inline"
   ]
  },
  {
   "cell_type": "code",
   "execution_count": 2,
   "metadata": {},
   "outputs": [],
   "source": [
    "gem = pd.read_csv('gem.tbl', delimiter='\\t', header=None)\n",
    "gtm = pd.read_csv('GTM.tbl', delimiter='\\t', header=None)"
   ]
  },
  {
   "cell_type": "code",
   "execution_count": 3,
   "metadata": {},
   "outputs": [],
   "source": [
    "gtm_e = gtm[gtm[0].str.contains('_e')]\n",
    "gtm_t = gtm[gtm[0].str.contains('_t')]"
   ]
  },
  {
   "cell_type": "code",
   "execution_count": 31,
   "metadata": {},
   "outputs": [],
   "source": [
    "def plot_termination_hist(gtm, name):\n",
    "    x = list(gtm.iloc[:, 1:].nunique(axis=1))\n",
    "    x = [ i - 1 for i in x]\n",
    "    fig = plt.figure(figsize=(12,6))\n",
    "    fig.suptitle('Termination site histogram of genes expressed in > 10 cells', fontsize = 14)\n",
    "    ax = fig.add_subplot(111)\n",
    "\n",
    "    out = ax.hist(x, 22, alpha=0.5, align='left')\n",
    "\n",
    "    ax.set_xticks(range(14), minor=False)\n",
    "\n",
    "    ax.set_xlabel('# Distinct termination sites across cells', labelpad = 20, fontsize = 12)\n",
    "    ax.set_ylabel('# Genes',labelpad = 20, fontsize = 12)\n",
    "\n",
    "    fig.savefig(name + '.png', bbox_inches='tight')\n",
    "    fig.show()\n",
    "    return out"
   ]
  },
  {
   "cell_type": "markdown",
   "metadata": {},
   "source": [
    "### Getting the ratio # genes expressed > 10 cells/ # termination > 1"
   ]
  },
  {
   "cell_type": "code",
   "execution_count": 5,
   "metadata": {},
   "outputs": [],
   "source": [
    "# Number of cells a gene is expressed in\n",
    "expr_cells = gtm_e[gtm_e.iloc[:, 1:] > 0].count(axis=1)\n",
    "expr_cells_10 = expr_cells[expr_cells > 10]\n",
    "# Number of genes expressed in > 10 cells\n",
    "expr_cells_count = len(list(expr_cells_10))\n",
    "# Proportion\n",
    "expr_cells_prop = expr_cells_count * 100 / gtm_e.shape[0]\n",
    "# Getting gtm indexes for those\n",
    "gtm_indexes = [idx+1 for idx in list(expr_cells_10.index)]\n",
    "gtm_cells_10 = gtm.iloc[gtm_indexes]\n",
    "gtm_cells = gtm_cells_10[gtm_cells_10.iloc[:, 1:].nunique(axis=1) > 2]\n",
    "gtm_cells_count = gtm_cells.shape[0]\n",
    "# Proportion\n",
    "gtm_cells_prop = gtm_cells_count * 100 / len(gtm_indexes)\n",
    "# Ratio \n",
    "ratio = expr_cells_count / gtm_cells_count"
   ]
  },
  {
   "cell_type": "code",
   "execution_count": 32,
   "metadata": {
    "scrolled": false
   },
   "outputs": [
    {
     "name": "stderr",
     "output_type": "stream",
     "text": [
      "/home/lemac/miniconda3/envs/ml/lib/python3.6/site-packages/matplotlib/figure.py:403: UserWarning: matplotlib is currently using a non-GUI backend, so cannot show the figure\n",
      "  \"matplotlib is currently using a non-GUI backend, \"\n"
     ]
    },
    {
     "data": {
      "image/png": "[encoded data removed]",
      "text/plain": [
       "<matplotlib.figure.Figure at 0x7f1d2810dba8>"
      ]
     },
     "metadata": {},
     "output_type": "display_data"
    }
   ],
   "source": [
    "out = plot_termination_hist(gtm_cells_10, 'term_hist')"
   ]
  },
  {
   "cell_type": "code",
   "execution_count": null,
   "metadata": {},
   "outputs": [],
   "source": [
    "def plot_distant_hist(gtm, name):\n",
    "    x = list(gtm.iloc[:, 1:].nunique(axis=1))\n",
    "    x = [ i - 1 for i in x]\n",
    "    fig = plt.figure(figsize=(12,6))\n",
    "    fig.suptitle('Termination site histogram of genes expressed in > 10 cells', fontsize = 14)\n",
    "    ax = fig.add_subplot(111)\n",
    "\n",
    "    out = ax.hist(x, 22, alpha=0.5, align='left')\n",
    "\n",
    "    ax.set_xticks(range(14), minor=False)\n",
    "\n",
    "    ax.set_xlabel('# Distinct termination sites across cells', labelpad = 20, fontsize = 12)\n",
    "    ax.set_ylabel('# Genes',labelpad = 20, fontsize = 12)\n",
    "\n",
    "    fig.savefig(name + '.png', bbox_inches='tight')\n",
    "    fig.show()\n",
    "    return out"
   ]
  },
  {
   "cell_type": "markdown",
   "metadata": {},
   "source": [
    "> 0: 16724\n",
    "> 100: 3024\n",
    "> 200: 2343\n",
    "> 300: 1877\n",
    "> 400: 1188\n",
    "> 500: 912\n",
    "> 600: 659\n",
    "> 700: 232\n",
    "> 800: 94\n",
    "> 900: 13"
   ]
  },
  {
   "cell_type": "code",
   "execution_count": 90,
   "metadata": {
    "scrolled": true
   },
   "outputs": [
    {
     "name": "stdout",
     "output_type": "stream",
     "text": [
      "[8065, 3024, 2343, 1877, 1188, 912, 659, 232, 81, 13]\n",
      "[8065, 3024, 2343, 1877, 1188, 912, 659, 138, 81, 13]\n",
      "[8065, 3024, 2343, 1877, 1188, 912, 427, 138, 81, 13]\n",
      "[8065, 3024, 2343, 1877, 1188, 253, 427, 138, 81, 13]\n",
      "[8065, 3024, 2343, 1877, 276, 253, 427, 138, 81, 13]\n",
      "[8065, 3024, 2343, 689, 276, 253, 427, 138, 81, 13]\n",
      "[8065, 3024, 466, 689, 276, 253, 427, 138, 81, 13]\n",
      "[8065, 681, 466, 689, 276, 253, 427, 138, 81, 13]\n",
      "[5041, 681, 466, 689, 276, 253, 427, 138, 81, 13]\n"
     ]
    }
   ],
   "source": [
    "l = [8065, 3024, 2343, 1877, 1188, 912, 659, 232, 94, 13]\n",
    "t = [8065, 3024, 2343, 1877, 1188, 912, 659, 232, 94, 13]\n",
    "for i in range(len(l)-1, 0, -1):\n",
    "    l[i-1] = l[i-1] - t[i]\n",
    "    print(l)"
   ]
  },
  {
   "cell_type": "code",
   "execution_count": 82,
   "metadata": {},
   "outputs": [],
   "source": [
    "vals = [100, 200, 300, 400, 500, 600, 700, 800, 900]\n",
    "h = []\n",
    "l = l[1:]\n",
    "for i in range(len(vals)):\n",
    "    h += [vals[i]] * l[i]"
   ]
  },
  {
   "cell_type": "code",
   "execution_count": 86,
   "metadata": {},
   "outputs": [
    {
     "name": "stderr",
     "output_type": "stream",
     "text": [
      "/home/lemac/miniconda3/envs/ml/lib/python3.6/site-packages/matplotlib/figure.py:403: UserWarning: matplotlib is currently using a non-GUI backend, so cannot show the figure\n",
      "  \"matplotlib is currently using a non-GUI backend, \"\n"
     ]
    },
    {
     "data": {
      "image/png": "[encoded data removed]",
      "text/plain": [
       "<matplotlib.figure.Figure at 0x7f1d28839e80>"
      ]
     },
     "metadata": {},
     "output_type": "display_data"
    }
   ],
   "source": [
    "fig = plt.figure(figsize=(12,6))\n",
    "fig.suptitle('Termination site values of genes expressed in > 10 cells', fontsize = 14)\n",
    "ax = fig.add_subplot(111)\n",
    "\n",
    "out = ax.hist(h, 22, alpha=0.5, align='right')\n",
    "\n",
    "ax.set_xticks(vals, minor=False)\n",
    "\n",
    "ax.set_xlabel('Termination values across cells', labelpad = 20, fontsize = 12)\n",
    "ax.set_ylabel('# Genes',labelpad = 20, fontsize = 12)\n",
    "\n",
    "# fig.savefig(name + '.png', bbox_inches='tight')\n",
    "fig.show()"
   ]
  },
  {
   "cell_type": "code",
   "execution_count": 165,
   "metadata": {},
   "outputs": [
    {
     "data": {
      "text/plain": [
       "2.085546826287567"
      ]
     },
     "execution_count": 165,
     "metadata": {},
     "output_type": "execute_result"
    }
   ],
   "source": [
    "ratio"
   ]
  },
  {
   "cell_type": "markdown",
   "metadata": {},
   "source": [
    "#### In percentages:\n",
    "1. \\# Genes expressed in > 10: 54.27% % (16724 genes out of 30814)\n",
    "\n",
    "2. \\# Genes with termination > 1 (At least one) from 1.: 47.95% (8019 genes out of 16724) "
   ]
  }
 ],
 "metadata": {
  "kernelspec": {
   "display_name": "Python 3",
   "language": "python",
   "name": "python3"
  },
  "language_info": {
   "codemirror_mode": {
    "name": "ipython",
    "version": 3
   },
   "file_extension": ".py",
   "mimetype": "text/x-python",
   "name": "python",
   "nbconvert_exporter": "python",
   "pygments_lexer": "ipython3",
   "version": "3.6.2"
  }
 },
 "nbformat": 4,
 "nbformat_minor": 2
}
